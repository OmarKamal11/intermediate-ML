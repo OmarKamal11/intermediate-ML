{
 "cells": [
  {
   "cell_type": "markdown",
   "id": "dabba6b7",
   "metadata": {
    "papermill": {
     "duration": 0.007812,
     "end_time": "2022-09-14T23:16:01.478569",
     "exception": false,
     "start_time": "2022-09-14T23:16:01.470757",
     "status": "completed"
    },
    "tags": []
   },
   "source": [
    "**This notebook is an exercise in the [Intermediate Machine Learning](https://www.kaggle.com/learn/intermediate-machine-learning) course.  You can reference the tutorial at [this link](https://www.kaggle.com/alexisbcook/xgboost).**\n",
    "\n",
    "---\n"
   ]
  },
  {
   "cell_type": "markdown",
   "id": "bdedb681",
   "metadata": {
    "papermill": {
     "duration": 0.004779,
     "end_time": "2022-09-14T23:16:01.488882",
     "exception": false,
     "start_time": "2022-09-14T23:16:01.484103",
     "status": "completed"
    },
    "tags": []
   },
   "source": [
    "In this exercise, you will use your new knowledge to train a model with **gradient boosting**.\n",
    "\n",
    "# Setup\n",
    "\n",
    "The questions below will give you feedback on your work. Run the following cell to set up the feedback system."
   ]
  },
  {
   "cell_type": "code",
   "execution_count": 1,
   "id": "a7d416aa",
   "metadata": {
    "execution": {
     "iopub.execute_input": "2022-09-14T23:16:01.501111Z",
     "iopub.status.busy": "2022-09-14T23:16:01.500547Z",
     "iopub.status.idle": "2022-09-14T23:16:03.978756Z",
     "shell.execute_reply": "2022-09-14T23:16:03.977772Z"
    },
    "papermill": {
     "duration": 2.487492,
     "end_time": "2022-09-14T23:16:03.981494",
     "exception": false,
     "start_time": "2022-09-14T23:16:01.494002",
     "status": "completed"
    },
    "tags": []
   },
   "outputs": [
    {
     "name": "stdout",
     "output_type": "stream",
     "text": [
      "Setup Complete\n"
     ]
    }
   ],
   "source": [
    "# Set up code checking\n",
    "import os\n",
    "if not os.path.exists(\"../input/train.csv\"):\n",
    "    os.symlink(\"../input/home-data-for-ml-course/train.csv\", \"../input/train.csv\")  \n",
    "    os.symlink(\"../input/home-data-for-ml-course/test.csv\", \"../input/test.csv\") \n",
    "from learntools.core import binder\n",
    "binder.bind(globals())\n",
    "from learntools.ml_intermediate.ex6 import *\n",
    "print(\"Setup Complete\")"
   ]
  },
  {
   "cell_type": "markdown",
   "id": "acd32edf",
   "metadata": {
    "papermill": {
     "duration": 0.005098,
     "end_time": "2022-09-14T23:16:03.991940",
     "exception": false,
     "start_time": "2022-09-14T23:16:03.986842",
     "status": "completed"
    },
    "tags": []
   },
   "source": [
    "You will work with the [Housing Prices Competition for Kaggle Learn Users](https://www.kaggle.com/c/home-data-for-ml-course) dataset from the previous exercise. \n",
    "\n",
    "![Ames Housing dataset image](https://i.imgur.com/lTJVG4e.png)\n",
    "\n",
    "Run the next code cell without changes to load the training and validation sets in `X_train`, `X_valid`, `y_train`, and `y_valid`.  The test set is loaded in `X_test`."
   ]
  },
  {
   "cell_type": "code",
   "execution_count": 2,
   "id": "b51a25a7",
   "metadata": {
    "execution": {
     "iopub.execute_input": "2022-09-14T23:16:04.004518Z",
     "iopub.status.busy": "2022-09-14T23:16:04.003820Z",
     "iopub.status.idle": "2022-09-14T23:16:04.193939Z",
     "shell.execute_reply": "2022-09-14T23:16:04.192805Z"
    },
    "papermill": {
     "duration": 0.199446,
     "end_time": "2022-09-14T23:16:04.196718",
     "exception": false,
     "start_time": "2022-09-14T23:16:03.997272",
     "status": "completed"
    },
    "tags": []
   },
   "outputs": [],
   "source": [
    "import pandas as pd\n",
    "from sklearn.model_selection import train_test_split\n",
    "\n",
    "# Read the data\n",
    "X = pd.read_csv('../input/train.csv', index_col='Id')\n",
    "X_test_full = pd.read_csv('../input/test.csv', index_col='Id')\n",
    "\n",
    "# Remove rows with missing target, separate target from predictors\n",
    "X.dropna(axis=0, subset=['SalePrice'], inplace=True)\n",
    "y = X.SalePrice              \n",
    "X.drop(['SalePrice'], axis=1, inplace=True)\n",
    "\n",
    "# Break off validation set from training data\n",
    "X_train_full, X_valid_full, y_train, y_valid = train_test_split(X, y, train_size=0.8, test_size=0.2,\n",
    "                                                                random_state=0)\n",
    "\n",
    "# \"Cardinality\" means the number of unique values in a column\n",
    "# Select categorical columns with relatively low cardinality (convenient but arbitrary)\n",
    "low_cardinality_cols = [cname for cname in X_train_full.columns if X_train_full[cname].nunique() < 10 and \n",
    "                        X_train_full[cname].dtype == \"object\"]\n",
    "\n",
    "# Select numeric columns\n",
    "numeric_cols = [cname for cname in X_train_full.columns if X_train_full[cname].dtype in ['int64', 'float64']]\n",
    "\n",
    "# Keep selected columns only\n",
    "my_cols = low_cardinality_cols + numeric_cols\n",
    "X_train = X_train_full[my_cols].copy()\n",
    "X_valid = X_valid_full[my_cols].copy()\n",
    "X_test = X_test_full[my_cols].copy()\n",
    "\n",
    "# One-hot encode the data (to shorten the code, we use pandas)\n",
    "X_train = pd.get_dummies(X_train)\n",
    "X_valid = pd.get_dummies(X_valid)\n",
    "X_test = pd.get_dummies(X_test)\n",
    "X_train, X_valid = X_train.align(X_valid, join='left', axis=1)\n",
    "X_train, X_test = X_train.align(X_test, join='left', axis=1)"
   ]
  },
  {
   "cell_type": "markdown",
   "id": "d00ccd6b",
   "metadata": {
    "papermill": {
     "duration": 0.005022,
     "end_time": "2022-09-14T23:16:04.207003",
     "exception": false,
     "start_time": "2022-09-14T23:16:04.201981",
     "status": "completed"
    },
    "tags": []
   },
   "source": [
    "# Step 1: Build model\n",
    "\n",
    "### Part A\n",
    "\n",
    "In this step, you'll build and train your first model with gradient boosting.\n",
    "\n",
    "- Begin by setting `my_model_1` to an XGBoost model.  Use the [XGBRegressor](https://xgboost.readthedocs.io/en/latest/python/python_api.html#xgboost.XGBRegressor) class, and set the random seed to 0 (`random_state=0`).  **Leave all other parameters as default.**\n",
    "- Then, fit the model to the training data in `X_train` and `y_train`."
   ]
  },
  {
   "cell_type": "code",
   "execution_count": 3,
   "id": "417c907c",
   "metadata": {
    "execution": {
     "iopub.execute_input": "2022-09-14T23:16:04.219798Z",
     "iopub.status.busy": "2022-09-14T23:16:04.219162Z",
     "iopub.status.idle": "2022-09-14T23:16:05.203984Z",
     "shell.execute_reply": "2022-09-14T23:16:05.202854Z"
    },
    "papermill": {
     "duration": 0.994153,
     "end_time": "2022-09-14T23:16:05.206400",
     "exception": false,
     "start_time": "2022-09-14T23:16:04.212247",
     "status": "completed"
    },
    "tags": []
   },
   "outputs": [
    {
     "data": {
      "application/javascript": [
       "parent.postMessage({\"jupyterEvent\": \"custom.exercise_interaction\", \"data\": {\"outcomeType\": 1, \"valueTowardsCompletion\": 0.5, \"interactionType\": 1, \"questionType\": 2, \"questionId\": \"1.1_Model1A\", \"learnToolsVersion\": \"0.3.4\", \"failureMessage\": \"\", \"exceptionClass\": \"\", \"trace\": \"\"}}, \"*\")"
      ],
      "text/plain": [
       "<IPython.core.display.Javascript object>"
      ]
     },
     "metadata": {},
     "output_type": "display_data"
    },
    {
     "data": {
      "text/markdown": [
       "<span style=\"color:#33cc33\">Correct</span>"
      ],
      "text/plain": [
       "Correct"
      ]
     },
     "metadata": {},
     "output_type": "display_data"
    }
   ],
   "source": [
    "from xgboost import XGBRegressor\n",
    "\n",
    "# Define the model\n",
    "my_model_1 = XGBRegressor(random_state=0)\n",
    "\n",
    "# Fit the model\n",
    "my_model_1.fit(X_train,y_train)\n",
    "\n",
    "# Check your answer\n",
    "step_1.a.check()"
   ]
  },
  {
   "cell_type": "code",
   "execution_count": 4,
   "id": "4186e5c7",
   "metadata": {
    "execution": {
     "iopub.execute_input": "2022-09-14T23:16:05.219375Z",
     "iopub.status.busy": "2022-09-14T23:16:05.218571Z",
     "iopub.status.idle": "2022-09-14T23:16:05.223497Z",
     "shell.execute_reply": "2022-09-14T23:16:05.222293Z"
    },
    "papermill": {
     "duration": 0.014165,
     "end_time": "2022-09-14T23:16:05.226074",
     "exception": false,
     "start_time": "2022-09-14T23:16:05.211909",
     "status": "completed"
    },
    "tags": []
   },
   "outputs": [],
   "source": [
    "# Lines below will give you a hint or solution code\n",
    "#step_1.a.hint()\n",
    "#step_1.a.solution()"
   ]
  },
  {
   "cell_type": "markdown",
   "id": "aeae2d39",
   "metadata": {
    "papermill": {
     "duration": 0.005125,
     "end_time": "2022-09-14T23:16:05.236713",
     "exception": false,
     "start_time": "2022-09-14T23:16:05.231588",
     "status": "completed"
    },
    "tags": []
   },
   "source": [
    "### Part B\n",
    "\n",
    "Set `predictions_1` to the model's predictions for the validation data.  Recall that the validation features are stored in `X_valid`."
   ]
  },
  {
   "cell_type": "code",
   "execution_count": 5,
   "id": "40ad50e9",
   "metadata": {
    "execution": {
     "iopub.execute_input": "2022-09-14T23:16:05.249263Z",
     "iopub.status.busy": "2022-09-14T23:16:05.248878Z",
     "iopub.status.idle": "2022-09-14T23:16:05.271980Z",
     "shell.execute_reply": "2022-09-14T23:16:05.270494Z"
    },
    "papermill": {
     "duration": 0.033688,
     "end_time": "2022-09-14T23:16:05.275812",
     "exception": false,
     "start_time": "2022-09-14T23:16:05.242124",
     "status": "completed"
    },
    "tags": []
   },
   "outputs": [
    {
     "data": {
      "application/javascript": [
       "parent.postMessage({\"jupyterEvent\": \"custom.exercise_interaction\", \"data\": {\"outcomeType\": 1, \"valueTowardsCompletion\": 0.5, \"interactionType\": 1, \"questionType\": 2, \"questionId\": \"1.2_Model1B\", \"learnToolsVersion\": \"0.3.4\", \"failureMessage\": \"\", \"exceptionClass\": \"\", \"trace\": \"\"}}, \"*\")"
      ],
      "text/plain": [
       "<IPython.core.display.Javascript object>"
      ]
     },
     "metadata": {},
     "output_type": "display_data"
    },
    {
     "data": {
      "text/markdown": [
       "<span style=\"color:#33cc33\">Correct</span>"
      ],
      "text/plain": [
       "Correct"
      ]
     },
     "metadata": {},
     "output_type": "display_data"
    }
   ],
   "source": [
    "from sklearn.metrics import mean_absolute_error\n",
    "\n",
    "# Get predictions\n",
    "predictions_1 = my_model_1.predict(X_valid)\n",
    "\n",
    "# Check your answer\n",
    "step_1.b.check()"
   ]
  },
  {
   "cell_type": "code",
   "execution_count": 6,
   "id": "cb9bffe2",
   "metadata": {
    "execution": {
     "iopub.execute_input": "2022-09-14T23:16:05.289896Z",
     "iopub.status.busy": "2022-09-14T23:16:05.289121Z",
     "iopub.status.idle": "2022-09-14T23:16:05.294230Z",
     "shell.execute_reply": "2022-09-14T23:16:05.293196Z"
    },
    "papermill": {
     "duration": 0.014628,
     "end_time": "2022-09-14T23:16:05.296458",
     "exception": false,
     "start_time": "2022-09-14T23:16:05.281830",
     "status": "completed"
    },
    "tags": []
   },
   "outputs": [],
   "source": [
    "# Lines below will give you a hint or solution code\n",
    "#step_1.b.hint()\n",
    "#step_1.b.solution()"
   ]
  },
  {
   "cell_type": "markdown",
   "id": "b8828b48",
   "metadata": {
    "papermill": {
     "duration": 0.005421,
     "end_time": "2022-09-14T23:16:05.307676",
     "exception": false,
     "start_time": "2022-09-14T23:16:05.302255",
     "status": "completed"
    },
    "tags": []
   },
   "source": [
    "### Part C\n",
    "\n",
    "Finally, use the `mean_absolute_error()` function to calculate the mean absolute error (MAE) corresponding to the predictions for the validation set.  Recall that the labels for the validation data are stored in `y_valid`."
   ]
  },
  {
   "cell_type": "code",
   "execution_count": 7,
   "id": "e5fa2cfe",
   "metadata": {
    "execution": {
     "iopub.execute_input": "2022-09-14T23:16:05.320705Z",
     "iopub.status.busy": "2022-09-14T23:16:05.320310Z",
     "iopub.status.idle": "2022-09-14T23:16:05.329979Z",
     "shell.execute_reply": "2022-09-14T23:16:05.328778Z"
    },
    "papermill": {
     "duration": 0.019235,
     "end_time": "2022-09-14T23:16:05.332484",
     "exception": false,
     "start_time": "2022-09-14T23:16:05.313249",
     "status": "completed"
    },
    "tags": []
   },
   "outputs": [
    {
     "name": "stdout",
     "output_type": "stream",
     "text": [
      "Mean Absolute Error: 17662.736729452055\n"
     ]
    },
    {
     "data": {
      "application/javascript": [
       "parent.postMessage({\"jupyterEvent\": \"custom.exercise_interaction\", \"data\": {\"outcomeType\": 1, \"valueTowardsCompletion\": 0.5, \"interactionType\": 1, \"questionType\": 2, \"questionId\": \"1.3_Model1C\", \"learnToolsVersion\": \"0.3.4\", \"failureMessage\": \"\", \"exceptionClass\": \"\", \"trace\": \"\"}}, \"*\")"
      ],
      "text/plain": [
       "<IPython.core.display.Javascript object>"
      ]
     },
     "metadata": {},
     "output_type": "display_data"
    },
    {
     "data": {
      "text/markdown": [
       "<span style=\"color:#33cc33\">Correct</span>"
      ],
      "text/plain": [
       "Correct"
      ]
     },
     "metadata": {},
     "output_type": "display_data"
    }
   ],
   "source": [
    "# Calculate MAE\n",
    "mae_1 = mean_absolute_error(predictions_1,y_valid)\n",
    "\n",
    "# Uncomment to print MAE\n",
    "print(\"Mean Absolute Error:\" , mae_1)\n",
    "\n",
    "# Check your answer\n",
    "step_1.c.check()"
   ]
  },
  {
   "cell_type": "code",
   "execution_count": 8,
   "id": "d4c0a25a",
   "metadata": {
    "execution": {
     "iopub.execute_input": "2022-09-14T23:16:05.346604Z",
     "iopub.status.busy": "2022-09-14T23:16:05.345810Z",
     "iopub.status.idle": "2022-09-14T23:16:05.350646Z",
     "shell.execute_reply": "2022-09-14T23:16:05.349394Z"
    },
    "papermill": {
     "duration": 0.014373,
     "end_time": "2022-09-14T23:16:05.352897",
     "exception": false,
     "start_time": "2022-09-14T23:16:05.338524",
     "status": "completed"
    },
    "tags": []
   },
   "outputs": [],
   "source": [
    "# Lines below will give you a hint or solution code\n",
    "#step_1.c.hint()\n",
    "#step_1.c.solution()"
   ]
  },
  {
   "cell_type": "markdown",
   "id": "cf4f37ae",
   "metadata": {
    "papermill": {
     "duration": 0.005757,
     "end_time": "2022-09-14T23:16:05.364765",
     "exception": false,
     "start_time": "2022-09-14T23:16:05.359008",
     "status": "completed"
    },
    "tags": []
   },
   "source": [
    "# Step 2: Improve the model\n",
    "\n",
    "Now that you've trained a default model as baseline, it's time to tinker with the parameters, to see if you can get better performance!\n",
    "- Begin by setting `my_model_2` to an XGBoost model, using the [XGBRegressor](https://xgboost.readthedocs.io/en/latest/python/python_api.html#xgboost.XGBRegressor) class.  Use what you learned in the previous tutorial to figure out how to change the default parameters (like `n_estimators` and `learning_rate`) to get better results.\n",
    "- Then, fit the model to the training data in `X_train` and `y_train`.\n",
    "- Set `predictions_2` to the model's predictions for the validation data.  Recall that the validation features are stored in `X_valid`.\n",
    "- Finally, use the `mean_absolute_error()` function to calculate the mean absolute error (MAE) corresponding to the predictions on the validation set.  Recall that the labels for the validation data are stored in `y_valid`.\n",
    "\n",
    "In order for this step to be marked correct, your model in `my_model_2` must attain lower MAE than the model in `my_model_1`. "
   ]
  },
  {
   "cell_type": "code",
   "execution_count": 9,
   "id": "3d7dc3b0",
   "metadata": {
    "execution": {
     "iopub.execute_input": "2022-09-14T23:16:05.379289Z",
     "iopub.status.busy": "2022-09-14T23:16:05.378916Z",
     "iopub.status.idle": "2022-09-14T23:16:15.958112Z",
     "shell.execute_reply": "2022-09-14T23:16:15.956853Z"
    },
    "papermill": {
     "duration": 10.589116,
     "end_time": "2022-09-14T23:16:15.960771",
     "exception": false,
     "start_time": "2022-09-14T23:16:05.371655",
     "status": "completed"
    },
    "tags": []
   },
   "outputs": [
    {
     "name": "stdout",
     "output_type": "stream",
     "text": [
      "Mean Absolute Error: 16688.691513270547\n"
     ]
    },
    {
     "data": {
      "application/javascript": [
       "parent.postMessage({\"jupyterEvent\": \"custom.exercise_interaction\", \"data\": {\"outcomeType\": 1, \"valueTowardsCompletion\": 0.5, \"interactionType\": 1, \"questionType\": 2, \"questionId\": \"2_Model2\", \"learnToolsVersion\": \"0.3.4\", \"failureMessage\": \"\", \"exceptionClass\": \"\", \"trace\": \"\"}}, \"*\")"
      ],
      "text/plain": [
       "<IPython.core.display.Javascript object>"
      ]
     },
     "metadata": {},
     "output_type": "display_data"
    },
    {
     "data": {
      "text/markdown": [
       "<span style=\"color:#33cc33\">Correct</span>"
      ],
      "text/plain": [
       "Correct"
      ]
     },
     "metadata": {},
     "output_type": "display_data"
    }
   ],
   "source": [
    "# Define the model\n",
    "my_model_2 = XGBRegressor(n_estimators=1000,learning_rate=0.05)\n",
    "\n",
    "# Fit the model\n",
    "my_model_2.fit(X_train,y_train)\n",
    "\n",
    "# Get predictions\n",
    "predictions_2 = my_model_2.predict(X_valid)\n",
    "\n",
    "# Calculate MAE\n",
    "mae_2 = mean_absolute_error(predictions_2,y_valid)\n",
    "\n",
    "# Uncomment to print MAE\n",
    "print(\"Mean Absolute Error:\" , mae_2)\n",
    "\n",
    "# Check your answer\n",
    "step_2.check()"
   ]
  },
  {
   "cell_type": "code",
   "execution_count": 10,
   "id": "518f652e",
   "metadata": {
    "execution": {
     "iopub.execute_input": "2022-09-14T23:16:15.978058Z",
     "iopub.status.busy": "2022-09-14T23:16:15.977054Z",
     "iopub.status.idle": "2022-09-14T23:16:15.981222Z",
     "shell.execute_reply": "2022-09-14T23:16:15.980393Z"
    },
    "papermill": {
     "duration": 0.01617,
     "end_time": "2022-09-14T23:16:15.983390",
     "exception": false,
     "start_time": "2022-09-14T23:16:15.967220",
     "status": "completed"
    },
    "tags": []
   },
   "outputs": [],
   "source": [
    "# Lines below will give you a hint or solution code\n",
    "#step_2.hint()\n",
    "#step_2.solution()"
   ]
  },
  {
   "cell_type": "markdown",
   "id": "5004dc11",
   "metadata": {
    "papermill": {
     "duration": 0.006389,
     "end_time": "2022-09-14T23:16:15.996477",
     "exception": false,
     "start_time": "2022-09-14T23:16:15.990088",
     "status": "completed"
    },
    "tags": []
   },
   "source": [
    "# Step 3: Break the model\n",
    "\n",
    "In this step, you will create a model that performs worse than the original model in Step 1.  This will help you to develop your intuition for how to set parameters.  You might even find that you accidentally get better performance, which is ultimately a nice problem to have and a valuable learning experience!\n",
    "- Begin by setting `my_model_3` to an XGBoost model, using the [XGBRegressor](https://xgboost.readthedocs.io/en/latest/python/python_api.html#xgboost.XGBRegressor) class.  Use what you learned in the previous tutorial to figure out how to change the default parameters (like `n_estimators` and `learning_rate`) to design a model to get high MAE.\n",
    "- Then, fit the model to the training data in `X_train` and `y_train`.\n",
    "- Set `predictions_3` to the model's predictions for the validation data.  Recall that the validation features are stored in `X_valid`.\n",
    "- Finally, use the `mean_absolute_error()` function to calculate the mean absolute error (MAE) corresponding to the predictions on the validation set.  Recall that the labels for the validation data are stored in `y_valid`.\n",
    "\n",
    "In order for this step to be marked correct, your model in `my_model_3` must attain higher MAE than the model in `my_model_1`. "
   ]
  },
  {
   "cell_type": "code",
   "execution_count": 11,
   "id": "7ac1a46c",
   "metadata": {
    "execution": {
     "iopub.execute_input": "2022-09-14T23:16:16.013845Z",
     "iopub.status.busy": "2022-09-14T23:16:16.013072Z",
     "iopub.status.idle": "2022-09-14T23:16:16.547099Z",
     "shell.execute_reply": "2022-09-14T23:16:16.546018Z"
    },
    "papermill": {
     "duration": 0.544527,
     "end_time": "2022-09-14T23:16:16.549375",
     "exception": false,
     "start_time": "2022-09-14T23:16:16.004848",
     "status": "completed"
    },
    "tags": []
   },
   "outputs": [
    {
     "name": "stdout",
     "output_type": "stream",
     "text": [
      "Mean Absolute Error: 21842.282775042808\n"
     ]
    },
    {
     "data": {
      "application/javascript": [
       "parent.postMessage({\"jupyterEvent\": \"custom.exercise_interaction\", \"data\": {\"outcomeType\": 1, \"valueTowardsCompletion\": 0.5, \"interactionType\": 1, \"questionType\": 2, \"questionId\": \"3_Model3\", \"learnToolsVersion\": \"0.3.4\", \"failureMessage\": \"\", \"exceptionClass\": \"\", \"trace\": \"\"}}, \"*\")"
      ],
      "text/plain": [
       "<IPython.core.display.Javascript object>"
      ]
     },
     "metadata": {},
     "output_type": "display_data"
    },
    {
     "data": {
      "text/markdown": [
       "<span style=\"color:#33cc33\">Correct</span>"
      ],
      "text/plain": [
       "Correct"
      ]
     },
     "metadata": {},
     "output_type": "display_data"
    }
   ],
   "source": [
    "# Define the model\n",
    "my_model_3 =  XGBRegressor(n_estimators=50,learning_rate=0.05)\n",
    "\n",
    "# Fit the model\n",
    "my_model_3.fit(X_train,y_train)\n",
    "\n",
    "# Get predictions\n",
    "predictions_3 = my_model_3.predict(X_valid)\n",
    "\n",
    "# Calculate MAE\n",
    "mae_3 = mean_absolute_error(predictions_3,y_valid)\n",
    "\n",
    "# Uncomment to print MAE\n",
    "print(\"Mean Absolute Error:\" , mae_3)\n",
    "\n",
    "# Check your answer\n",
    "step_3.check()"
   ]
  },
  {
   "cell_type": "code",
   "execution_count": 12,
   "id": "40de9948",
   "metadata": {
    "execution": {
     "iopub.execute_input": "2022-09-14T23:16:16.565250Z",
     "iopub.status.busy": "2022-09-14T23:16:16.564846Z",
     "iopub.status.idle": "2022-09-14T23:16:16.573361Z",
     "shell.execute_reply": "2022-09-14T23:16:16.572254Z"
    },
    "papermill": {
     "duration": 0.019049,
     "end_time": "2022-09-14T23:16:16.575547",
     "exception": false,
     "start_time": "2022-09-14T23:16:16.556498",
     "status": "completed"
    },
    "tags": []
   },
   "outputs": [
    {
     "data": {
      "application/javascript": [
       "parent.postMessage({\"jupyterEvent\": \"custom.exercise_interaction\", \"data\": {\"interactionType\": 2, \"questionType\": 2, \"questionId\": \"3_Model3\", \"learnToolsVersion\": \"0.3.4\", \"valueTowardsCompletion\": 0.0, \"failureMessage\": \"\", \"exceptionClass\": \"\", \"trace\": \"\", \"outcomeType\": 4}}, \"*\")"
      ],
      "text/plain": [
       "<IPython.core.display.Javascript object>"
      ]
     },
     "metadata": {},
     "output_type": "display_data"
    },
    {
     "data": {
      "text/markdown": [
       "<span style=\"color:#3366cc\">Hint:</span> In the official solution for this problem, we chose to greatly decrease the number of trees in the model by tinkering with the `n_estimators` parameter."
      ],
      "text/plain": [
       "Hint: In the official solution for this problem, we chose to greatly decrease the number of trees in the model by tinkering with the `n_estimators` parameter."
      ]
     },
     "metadata": {},
     "output_type": "display_data"
    }
   ],
   "source": [
    "# Lines below will give you a hint or solution code\n",
    "step_3.hint()\n",
    "#step_3.solution()"
   ]
  },
  {
   "cell_type": "markdown",
   "id": "7d6ff0f9",
   "metadata": {
    "papermill": {
     "duration": 0.006593,
     "end_time": "2022-09-14T23:16:16.589118",
     "exception": false,
     "start_time": "2022-09-14T23:16:16.582525",
     "status": "completed"
    },
    "tags": []
   },
   "source": [
    "# Keep going\n",
    "\n",
    "Continue to learn about **[data leakage](https://www.kaggle.com/alexisbcook/data-leakage)**.  This is an important issue for a data scientist to understand, and it has the potential to ruin your models in subtle and dangerous ways!"
   ]
  },
  {
   "cell_type": "markdown",
   "id": "0323036c",
   "metadata": {
    "papermill": {
     "duration": 0.00651,
     "end_time": "2022-09-14T23:16:16.602551",
     "exception": false,
     "start_time": "2022-09-14T23:16:16.596041",
     "status": "completed"
    },
    "tags": []
   },
   "source": [
    "---\n",
    "\n",
    "\n",
    "\n",
    "\n",
    "*Have questions or comments? Visit the [course discussion forum](https://www.kaggle.com/learn/intermediate-machine-learning/discussion) to chat with other learners.*"
   ]
  }
 ],
 "metadata": {
  "kernelspec": {
   "display_name": "Python 3",
   "language": "python",
   "name": "python3"
  },
  "language_info": {
   "codemirror_mode": {
    "name": "ipython",
    "version": 3
   },
   "file_extension": ".py",
   "mimetype": "text/x-python",
   "name": "python",
   "nbconvert_exporter": "python",
   "pygments_lexer": "ipython3",
   "version": "3.7.12"
  },
  "papermill": {
   "default_parameters": {},
   "duration": 25.127534,
   "end_time": "2022-09-14T23:16:17.331572",
   "environment_variables": {},
   "exception": null,
   "input_path": "__notebook__.ipynb",
   "output_path": "__notebook__.ipynb",
   "parameters": {},
   "start_time": "2022-09-14T23:15:52.204038",
   "version": "2.3.4"
  }
 },
 "nbformat": 4,
 "nbformat_minor": 5
}
